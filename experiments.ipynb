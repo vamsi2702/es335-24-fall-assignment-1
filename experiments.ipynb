{
 "cells": [
  {
   "cell_type": "code",
   "execution_count": 30,
   "metadata": {},
   "outputs": [],
   "source": [
    "import pandas as pd\n",
    "import numpy as np\n",
    "import time\n",
    "import matplotlib.pyplot as plt\n",
    "from tree.base import DecisionTree\n",
    "from metrics import *\n",
    "\n",
    "np.random.seed(42)\n",
    "num_avg_time = 100\n",
    "\n",
    "def gen_data(N, P, case):\n",
    "    if case == 1:\n",
    "        X = pd.DataFrame(np.random.randn(N, P))\n",
    "        y = pd.Series(np.random.randn(N))\n",
    "    elif case == 2:\n",
    "        X = pd.DataFrame(np.random.randn(N, P))\n",
    "        y = pd.Series(np.random.randint(P, size=N), dtype=\"category\")\n",
    "    elif case == 3:\n",
    "        X = pd.DataFrame({i: pd.Series(np.random.randint(P, size=N), dtype=\"category\") for i in range(P)})\n",
    "        y = pd.Series(np.random.randint(P, size=N), dtype=\"category\")\n",
    "    elif case == 4:\n",
    "        X = pd.DataFrame({i: pd.Series(np.random.randint(P, size=N), dtype=\"category\") for i in range(P)})\n",
    "        y = pd.Series(np.random.randn(N))\n",
    "    else:\n",
    "        raise ValueError(\"Invalid case number\")\n",
    "    return X, y\n"
   ]
  },
  {
   "cell_type": "code",
   "execution_count": 31,
   "metadata": {},
   "outputs": [],
   "source": [
    "\n",
    "def meas_learn(X_tr, y_tr, case):\n",
    "    start = time.time()\n",
    "    crit = \"MSE\" if case in [1, 3] else \"gini_index\"\n",
    "    tree = DecisionTree(criterion=crit)\n",
    "    tree.fit(X_tr, y_tr)\n",
    "    learn_time = time.time() - start\n",
    "    return learn_time, tree\n",
    "\n",
    "def meas_pred(tree, X_te):\n",
    "    start = time.time()\n",
    "    y_pred = tree.predict(X_te)\n",
    "    pred_time = time.time() - start\n",
    "    return pred_time\n"
   ]
  },
  {
   "cell_type": "code",
   "execution_count": null,
   "metadata": {},
   "outputs": [],
   "source": [
    "\n",
    "Ns = [20, 60, 100]\n",
    "Ms = [10, 40, 70]\n",
    "cases = [1, 2, 3, 4]\n",
    "l_time = []\n",
    "p_time = []\n",
    "\n",
    "for case in cases:\n",
    "    case_l = []\n",
    "    case_p = []\n",
    "    \n",
    "    for N in Ns:\n",
    "        for M in Ms:\n",
    "            X, y = gen_data(N, M, case)\n",
    "            y_df = pd.DataFrame(y, columns=['new_col'])\n",
    "            X = X.join(y_df, rsuffix='_y')\n",
    "            \n",
    "            split = int(0.7*N)\n",
    "            X_tr, X_te = X[:split], X[split:]\n",
    "            y_tr, y_te = y[:split], y[split:]\n",
    "            \n",
    "            lt, tree = meas_learn(X_tr, y_tr, case)\n",
    "            case_l.append(lt)\n",
    "            \n",
    "            pt = meas_pred(tree, X_te)\n",
    "            case_p.append(pt)\n",
    "    \n",
    "    l_time.append(case_l)\n",
    "    p_time.append(case_p)\n"
   ]
  },
  {
   "cell_type": "code",
   "execution_count": null,
   "metadata": {},
   "outputs": [],
   "source": [
    "\n",
    "fig, axes = plt.subplots(nrows=len(cases), ncols=2, figsize=(15, 8))\n",
    "fig.suptitle('Time Complexity Analysis')\n",
    "\n",
    "for i, case in enumerate(cases):\n",
    "    axes[i, 0].set_title(f\"Case {case} Learning Time\")\n",
    "    for j, N in enumerate(Ns):\n",
    "        axes[i, 0].plot(Ms, l_time[i][j * len(Ms):(j + 1) * len(Ms)], label=f'N={N}')\n",
    "    axes[i, 0].set_xlabel('P (Features)')\n",
    "    axes[i, 0].set_ylabel('Time (s)')\n",
    "    axes[i, 0].legend()\n",
    "\n",
    "    axes[i, 1].set_title(f\"Case {case} Prediction Time\")\n",
    "    for j, N in enumerate(Ns):\n",
    "        axes[i, 1].plot(Ms, p_time[i][j * len(Ms):(j + 1) * len(Ms)], label=f'N={N}')\n",
    "    axes[i, 1].set_xlabel('P (Features)')\n",
    "    axes[i, 1].set_ylabel('Time (s)')\n",
    "    axes[i, 1].legend()\n",
    "\n",
    "plt.tight_layout(rect=[0, 0, 1, 0.96])\n",
    "plt.show()"
   ]
  },
  {
   "cell_type": "code",
   "execution_count": null,
   "metadata": {},
   "outputs": [],
   "source": []
  }
 ],
 "metadata": {
  "kernelspec": {
   "display_name": "Python 3",
   "language": "python",
   "name": "python3"
  },
  "language_info": {
   "codemirror_mode": {
    "name": "ipython",
    "version": 3
   },
   "file_extension": ".py",
   "mimetype": "text/x-python",
   "name": "python",
   "nbconvert_exporter": "python",
   "pygments_lexer": "ipython3",
   "version": "3.11.9"
  }
 },
 "nbformat": 4,
 "nbformat_minor": 2
}
